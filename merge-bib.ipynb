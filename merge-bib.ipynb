{
 "cells": [
  {
   "cell_type": "code",
   "execution_count": 15,
   "id": "ea9d6b0d-abcb-4bbc-a859-b17b1327391f",
   "metadata": {},
   "outputs": [],
   "source": [
    "import os\n",
    "import glob\n",
    "from pybtex.database import parse_file, BibliographyData, Entry"
   ]
  },
  {
   "cell_type": "code",
   "execution_count": 18,
   "id": "0156039d-42b5-40b2-a977-94e656461f76",
   "metadata": {},
   "outputs": [],
   "source": [
    "def merge_bib_files(prefix, output_file):\n",
    "    # Create an empty BibTeX database to store merged entries\n",
    "    merged_db = BibliographyData()\n",
    "\n",
    "    # List all files in the current directory with the specified prefix\n",
    "    input_files = glob.glob(f\"{prefix}*.bib\")\n",
    "    print(input_files)\n",
    "    for input_file in input_files:\n",
    "        # Parse each input .bib file\n",
    "        parser = parse_file(input_file)\n",
    "        print(len(parser.entries))\n",
    "        for key, entry in parser.entries.items():\n",
    "            # Check if the entry with the same key exists in the merged database\n",
    "            if key not in merged_db.entries:\n",
    "                # Add the entry to the merged database if it's not a duplicate\n",
    "                merged_db.entries[key] = entry\n",
    "\n",
    "    # Save the merged database to the output .bib file\n",
    "    with open(output_file, 'w', encoding='utf-8') as bibfile:\n",
    "        merged_db.to_file(bibfile)"
   ]
  },
  {
   "cell_type": "code",
   "execution_count": 20,
   "id": "4584fd8c-e8e9-4f67-a5ee-fd408c2d51ef",
   "metadata": {},
   "outputs": [
    {
     "name": "stdout",
     "output_type": "stream",
     "text": [
      "['sc_resilience_05.bib', 'sc_resilience_03.bib', 'sc_resilience_04.bib', 'sc_resilience_02.bib', 'sc_resilience_01.bib', 'sc_resilience_06.bib']\n",
      "100\n",
      "100\n",
      "100\n",
      "100\n",
      "100\n",
      "4\n",
      "Merged 2 .bib files into resilience.bib.\n"
     ]
    }
   ],
   "source": [
    "input_prefix = 'sc_resilience_'\n",
    "\n",
    "    # Output .bib file\n",
    "output_file = 'resilience.bib'  # Replace with your desired output file name\n",
    "\n",
    "merge_bib_files(input_prefix, output_file)\n",
    "print(f\"Merged {len(input_files)} .bib files into {output_file}.\")"
   ]
  },
  {
   "cell_type": "code",
   "execution_count": 24,
   "id": "d54b1a91-8bc5-4df7-a12b-958271e0e588",
   "metadata": {},
   "outputs": [
    {
     "name": "stdout",
     "output_type": "stream",
     "text": [
      "265\n"
     ]
    }
   ],
   "source": [
    "parser = parse_file('s1_dependability.bib')\n",
    "print(len(parser.entries))"
   ]
  }
 ],
 "metadata": {
  "kernelspec": {
   "display_name": "Python 3 (ipykernel)",
   "language": "python",
   "name": "python3"
  },
  "language_info": {
   "codemirror_mode": {
    "name": "ipython",
    "version": 3
   },
   "file_extension": ".py",
   "mimetype": "text/x-python",
   "name": "python",
   "nbconvert_exporter": "python",
   "pygments_lexer": "ipython3",
   "version": "3.10.12"
  }
 },
 "nbformat": 4,
 "nbformat_minor": 5
}
