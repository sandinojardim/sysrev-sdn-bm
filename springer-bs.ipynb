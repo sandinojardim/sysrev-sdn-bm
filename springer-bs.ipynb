{
 "cells": [
  {
   "cell_type": "code",
   "execution_count": 1,
   "id": "dba7d6b8",
   "metadata": {},
   "outputs": [],
   "source": [
    "from bs4 import BeautifulSoup\n",
    "import requests\n",
    "import pandas as pd"
   ]
  },
  {
   "cell_type": "code",
   "execution_count": 24,
   "id": "06684e93",
   "metadata": {},
   "outputs": [],
   "source": [
    "def doi_url(row):\n",
    "    query = ''\n",
    "    if not pd.isna(row['DOI']):\n",
    "        query = row['DOI']\n",
    "        return 1,query\n",
    "    elif not pd.isna(row['Url']):\n",
    "        query = row['Url']\n",
    "        return 2,query"
   ]
  },
  {
   "cell_type": "code",
   "execution_count": 34,
   "id": "45ba9218",
   "metadata": {},
   "outputs": [],
   "source": [
    "df = pd.read_csv('from_zotero.csv') #csv com abstracts faltantes"
   ]
  },
  {
   "cell_type": "code",
   "execution_count": 30,
   "id": "621a3b90",
   "metadata": {},
   "outputs": [],
   "source": [
    "# Iterate over the DataFrame rows\n",
    "for index, row in df.iterrows():\n",
    "    if pd.isna(row['Abstract Note']):\n",
    "        # Extract the DOI for each row\n",
    "        op,query = doi_url(row)\n",
    "\n",
    "        if op == 1:\n",
    "            doi = query\n",
    "            article_url = f'https://link.springer.com/{doi}'\n",
    "        elif op == 2:\n",
    "            article_url = query\n",
    "\n",
    "        # Send an HTTP GET request to the article URL\n",
    "        response = requests.get(article_url)\n",
    "\n",
    "        # Check if the request was successful (status code 200)\n",
    "        if response.status_code == 200:\n",
    "            # Parse the HTML content of the article page\n",
    "            soup = BeautifulSoup(response.content, 'html.parser')\n",
    "\n",
    "            # Find the abstract section using the HTML structure you provided\n",
    "            abstract_section = soup.find('section', {'data-title': 'Abstract'})\n",
    "\n",
    "            if abstract_section:\n",
    "                # Extract the text content of the abstract\n",
    "                abstract_text = abstract_section.find('div', {'class': 'c-article-section__content'}).get_text()\n",
    "                # Update the 'Abstract Note' column in the original DataFrame 'df'\n",
    "                df.loc[index, 'Abstract Note'] = abstract_text\n",
    "            else:\n",
    "                df.loc[index, 'Abstract Note'] = \"Abstract not found.\"\n",
    "        else:\n",
    "            df.loc[index, 'Abstract Note'] = \"Failed to retrieve data.\"\n",
    "            print(f\"Failed to retrieve data for DOI {doi}. Status code: {response.status_code}\")"
   ]
  },
  {
   "cell_type": "code",
   "execution_count": 36,
   "id": "3426f444",
   "metadata": {},
   "outputs": [],
   "source": [
    "df.to_csv('to_rayyan.csv') #novo csv com abstracts preenchidos"
   ]
  }
 ],
 "metadata": {
  "kernelspec": {
   "display_name": "Local Py",
   "language": "python",
   "name": "local-py"
  },
  "language_info": {
   "codemirror_mode": {
    "name": "ipython",
    "version": 3
   },
   "file_extension": ".py",
   "mimetype": "text/x-python",
   "name": "python",
   "nbconvert_exporter": "python",
   "pygments_lexer": "ipython3",
   "version": "3.10.12"
  }
 },
 "nbformat": 4,
 "nbformat_minor": 5
}
