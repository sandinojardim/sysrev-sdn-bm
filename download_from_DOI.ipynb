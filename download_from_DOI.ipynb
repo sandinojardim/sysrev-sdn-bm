{
 "cells": [
  {
   "cell_type": "code",
   "execution_count": 6,
   "id": "a7255506-ecca-4d3a-95d2-92f35b9b8d7c",
   "metadata": {},
   "outputs": [],
   "source": [
    "import habanero\n",
    "import csv\n",
    "from pybtex.database.input import bibtex"
   ]
  },
  {
   "cell_type": "code",
   "execution_count": 7,
   "id": "ace54f08-3bdc-4939-a510-89b1aa3f7490",
   "metadata": {},
   "outputs": [],
   "source": [
    "def dois_from_csv(file_path):\n",
    "    # Read DOIs from a CSV file\n",
    "    dois = []\n",
    "    with open(file_path, 'r') as file:\n",
    "        reader = csv.reader(file)\n",
    "        for row in reader:\n",
    "            dois.extend(row)\n",
    "    return dois"
   ]
  },
  {
   "cell_type": "code",
   "execution_count": 3,
   "id": "22ac6e43-f6c9-4aaa-b820-715096bb88cc",
   "metadata": {},
   "outputs": [],
   "source": [
    "def fetch_metadata(doi):\n",
    "    # Fetch metadata for a single DOI using CrossRef\n",
    "    cr = habanero.Crossref()\n",
    "    try:\n",
    "        response = cr.works(ids=doi)\n",
    "        return response['message']\n",
    "    except habanero.exceptions.RequestError as e:\n",
    "        print(f\"Error fetching metadata for DOI {doi}: {e}\")\n",
    "        return None"
   ]
  },
  {
   "cell_type": "code",
   "execution_count": 4,
   "id": "2010f17a-4d7a-4770-b383-83e73648543b",
   "metadata": {},
   "outputs": [],
   "source": [
    "def generate_ris(entries):\n",
    "    # Generate RIS formatted entries\n",
    "    bib_data = bibtex.Parser().parse_string(entries)\n",
    "    writer = bibtex.Writer()\n",
    "    return writer.to_string(bib_data)"
   ]
  },
  {
   "cell_type": "code",
   "execution_count": 5,
   "id": "04b31a61-6982-4390-9780-72499aa6909e",
   "metadata": {},
   "outputs": [],
   "source": [
    "def dois_to_ris(doils):\n",
    "    # Fetch metadata for each DOI and create a RIS file\n",
    "    entries = []\n",
    "    for doi in doils:\n",
    "        metadata = fetch_metadata(doi)\n",
    "        if metadata:\n",
    "            entry = habanero.cn.content_negotiation(ids=doi, format=\"bibentry\")\n",
    "            entries.append(entry)\n",
    "    \n",
    "    ris_entries = '\\n'.join(entries)\n",
    "    ris_data = generate_ris(ris_entries)\n",
    "    return ris_data"
   ]
  },
  {
   "cell_type": "code",
   "execution_count": 8,
   "id": "3b74719d-6a8c-4a58-8822-6315a733318e",
   "metadata": {},
   "outputs": [],
   "source": [
    "dois = dois_from_csv(\"doi_set.csv\")"
   ]
  },
  {
   "cell_type": "code",
   "execution_count": 9,
   "id": "9a3b55d0-ea15-4aca-a4f0-37771b72f6fb",
   "metadata": {},
   "outputs": [
    {
     "ename": "HTTPError",
     "evalue": "404 Client Error: Not Found for url: https://api.crossref.org/works/10.22967/HCIS.2021.11.028",
     "output_type": "error",
     "traceback": [
      "\u001b[0;31m---------------------------------------------------------------------------\u001b[0m",
      "\u001b[0;31mHTTPError\u001b[0m                                 Traceback (most recent call last)",
      "Cell \u001b[0;32mIn[9], line 2\u001b[0m\n\u001b[1;32m      1\u001b[0m \u001b[38;5;66;03m# Generate RIS file from DOIs\u001b[39;00m\n\u001b[0;32m----> 2\u001b[0m ris_content \u001b[38;5;241m=\u001b[39m \u001b[43mdois_to_ris\u001b[49m\u001b[43m(\u001b[49m\u001b[43mdois\u001b[49m\u001b[43m)\u001b[49m\n\u001b[1;32m      4\u001b[0m \u001b[38;5;66;03m# Write RIS content to a file\u001b[39;00m\n\u001b[1;32m      5\u001b[0m \u001b[38;5;28;01mwith\u001b[39;00m \u001b[38;5;28mopen\u001b[39m(\u001b[38;5;124m\"\u001b[39m\u001b[38;5;124mmetadata_entries.ris\u001b[39m\u001b[38;5;124m\"\u001b[39m, \u001b[38;5;124m\"\u001b[39m\u001b[38;5;124mw\u001b[39m\u001b[38;5;124m\"\u001b[39m, encoding\u001b[38;5;241m=\u001b[39m\u001b[38;5;124m\"\u001b[39m\u001b[38;5;124mutf-8\u001b[39m\u001b[38;5;124m\"\u001b[39m) \u001b[38;5;28;01mas\u001b[39;00m file:\n",
      "Cell \u001b[0;32mIn[5], line 5\u001b[0m, in \u001b[0;36mdois_to_ris\u001b[0;34m(doils)\u001b[0m\n\u001b[1;32m      3\u001b[0m entries \u001b[38;5;241m=\u001b[39m []\n\u001b[1;32m      4\u001b[0m \u001b[38;5;28;01mfor\u001b[39;00m doi \u001b[38;5;129;01min\u001b[39;00m doils:\n\u001b[0;32m----> 5\u001b[0m     metadata \u001b[38;5;241m=\u001b[39m \u001b[43mfetch_metadata\u001b[49m\u001b[43m(\u001b[49m\u001b[43mdoi\u001b[49m\u001b[43m)\u001b[49m\n\u001b[1;32m      6\u001b[0m     \u001b[38;5;28;01mif\u001b[39;00m metadata:\n\u001b[1;32m      7\u001b[0m         entry \u001b[38;5;241m=\u001b[39m habanero\u001b[38;5;241m.\u001b[39mcn\u001b[38;5;241m.\u001b[39mcontent_negotiation(ids\u001b[38;5;241m=\u001b[39mdoi, \u001b[38;5;28mformat\u001b[39m\u001b[38;5;241m=\u001b[39m\u001b[38;5;124m\"\u001b[39m\u001b[38;5;124mbibentry\u001b[39m\u001b[38;5;124m\"\u001b[39m)\n",
      "Cell \u001b[0;32mIn[3], line 5\u001b[0m, in \u001b[0;36mfetch_metadata\u001b[0;34m(doi)\u001b[0m\n\u001b[1;32m      3\u001b[0m cr \u001b[38;5;241m=\u001b[39m habanero\u001b[38;5;241m.\u001b[39mCrossref()\n\u001b[1;32m      4\u001b[0m \u001b[38;5;28;01mtry\u001b[39;00m:\n\u001b[0;32m----> 5\u001b[0m     response \u001b[38;5;241m=\u001b[39m \u001b[43mcr\u001b[49m\u001b[38;5;241;43m.\u001b[39;49m\u001b[43mworks\u001b[49m\u001b[43m(\u001b[49m\u001b[43mids\u001b[49m\u001b[38;5;241;43m=\u001b[39;49m\u001b[43mdoi\u001b[49m\u001b[43m)\u001b[49m\n\u001b[1;32m      6\u001b[0m     \u001b[38;5;28;01mreturn\u001b[39;00m response[\u001b[38;5;124m'\u001b[39m\u001b[38;5;124mmessage\u001b[39m\u001b[38;5;124m'\u001b[39m]\n\u001b[1;32m      7\u001b[0m \u001b[38;5;28;01mexcept\u001b[39;00m habanero\u001b[38;5;241m.\u001b[39mexceptions\u001b[38;5;241m.\u001b[39mRequestError \u001b[38;5;28;01mas\u001b[39;00m e:\n",
      "File \u001b[0;32m~/jupyter/lib/python3.10/site-packages/habanero/crossref/crossref.py:351\u001b[0m, in \u001b[0;36mCrossref.works\u001b[0;34m(self, ids, query, filter, offset, limit, sample, sort, order, facet, select, cursor, cursor_max, progress_bar, warn, **kwargs)\u001b[0m\n\u001b[1;32m    220\u001b[0m \u001b[38;5;250m\u001b[39m\u001b[38;5;124;03m\"\"\"\u001b[39;00m\n\u001b[1;32m    221\u001b[0m \u001b[38;5;124;03mSearch Crossref works\u001b[39;00m\n\u001b[1;32m    222\u001b[0m \n\u001b[0;32m   (...)\u001b[0m\n\u001b[1;32m    348\u001b[0m \u001b[38;5;124;03m    x.works(ids = '10.1371/journal.pone.0033693')\u001b[39;00m\n\u001b[1;32m    349\u001b[0m \u001b[38;5;124;03m\"\"\"\u001b[39;00m\n\u001b[1;32m    350\u001b[0m \u001b[38;5;28;01mif\u001b[39;00m ids\u001b[38;5;241m.\u001b[39m\u001b[38;5;18m__class__\u001b[39m\u001b[38;5;241m.\u001b[39m\u001b[38;5;18m__name__\u001b[39m \u001b[38;5;241m!=\u001b[39m \u001b[38;5;124m\"\u001b[39m\u001b[38;5;124mNoneType\u001b[39m\u001b[38;5;124m\"\u001b[39m:\n\u001b[0;32m--> 351\u001b[0m     \u001b[38;5;28;01mreturn\u001b[39;00m \u001b[43mrequest\u001b[49m\u001b[43m(\u001b[49m\n\u001b[1;32m    352\u001b[0m \u001b[43m        \u001b[49m\u001b[38;5;28;43mself\u001b[39;49m\u001b[38;5;241;43m.\u001b[39;49m\u001b[43mmailto\u001b[49m\u001b[43m,\u001b[49m\n\u001b[1;32m    353\u001b[0m \u001b[43m        \u001b[49m\u001b[38;5;28;43mself\u001b[39;49m\u001b[38;5;241;43m.\u001b[39;49m\u001b[43mua_string\u001b[49m\u001b[43m,\u001b[49m\n\u001b[1;32m    354\u001b[0m \u001b[43m        \u001b[49m\u001b[38;5;28;43mself\u001b[39;49m\u001b[38;5;241;43m.\u001b[39;49m\u001b[43mbase_url\u001b[49m\u001b[43m,\u001b[49m\n\u001b[1;32m    355\u001b[0m \u001b[43m        \u001b[49m\u001b[38;5;124;43m\"\u001b[39;49m\u001b[38;5;124;43m/works/\u001b[39;49m\u001b[38;5;124;43m\"\u001b[39;49m\u001b[43m,\u001b[49m\n\u001b[1;32m    356\u001b[0m \u001b[43m        \u001b[49m\u001b[43mids\u001b[49m\u001b[43m,\u001b[49m\n\u001b[1;32m    357\u001b[0m \u001b[43m        \u001b[49m\u001b[43mquery\u001b[49m\u001b[43m,\u001b[49m\n\u001b[1;32m    358\u001b[0m \u001b[43m        \u001b[49m\u001b[38;5;28;43mfilter\u001b[39;49m\u001b[43m,\u001b[49m\n\u001b[1;32m    359\u001b[0m \u001b[43m        \u001b[49m\u001b[43moffset\u001b[49m\u001b[43m,\u001b[49m\n\u001b[1;32m    360\u001b[0m \u001b[43m        \u001b[49m\u001b[43mlimit\u001b[49m\u001b[43m,\u001b[49m\n\u001b[1;32m    361\u001b[0m \u001b[43m        \u001b[49m\u001b[43msample\u001b[49m\u001b[43m,\u001b[49m\n\u001b[1;32m    362\u001b[0m \u001b[43m        \u001b[49m\u001b[43msort\u001b[49m\u001b[43m,\u001b[49m\n\u001b[1;32m    363\u001b[0m \u001b[43m        \u001b[49m\u001b[43morder\u001b[49m\u001b[43m,\u001b[49m\n\u001b[1;32m    364\u001b[0m \u001b[43m        \u001b[49m\u001b[43mfacet\u001b[49m\u001b[43m,\u001b[49m\n\u001b[1;32m    365\u001b[0m \u001b[43m        \u001b[49m\u001b[43mselect\u001b[49m\u001b[43m,\u001b[49m\n\u001b[1;32m    366\u001b[0m \u001b[43m        \u001b[49m\u001b[38;5;28;43;01mNone\u001b[39;49;00m\u001b[43m,\u001b[49m\n\u001b[1;32m    367\u001b[0m \u001b[43m        \u001b[49m\u001b[38;5;28;43;01mNone\u001b[39;49;00m\u001b[43m,\u001b[49m\n\u001b[1;32m    368\u001b[0m \u001b[43m        \u001b[49m\u001b[38;5;28;43;01mNone\u001b[39;49;00m\u001b[43m,\u001b[49m\n\u001b[1;32m    369\u001b[0m \u001b[43m        \u001b[49m\u001b[38;5;28;43;01mNone\u001b[39;49;00m\u001b[43m,\u001b[49m\n\u001b[1;32m    370\u001b[0m \u001b[43m        \u001b[49m\u001b[43mprogress_bar\u001b[49m\u001b[43m,\u001b[49m\n\u001b[1;32m    371\u001b[0m \u001b[43m        \u001b[49m\u001b[43mwarn\u001b[49m\u001b[43m,\u001b[49m\n\u001b[1;32m    372\u001b[0m \u001b[43m        \u001b[49m\u001b[38;5;241;43m*\u001b[39;49m\u001b[38;5;241;43m*\u001b[39;49m\u001b[43mkwargs\u001b[49m\n\u001b[1;32m    373\u001b[0m \u001b[43m    \u001b[49m\u001b[43m)\u001b[49m\n\u001b[1;32m    374\u001b[0m \u001b[38;5;28;01melse\u001b[39;00m:\n\u001b[1;32m    375\u001b[0m     \u001b[38;5;28;01mreturn\u001b[39;00m Request(\n\u001b[1;32m    376\u001b[0m         \u001b[38;5;28mself\u001b[39m\u001b[38;5;241m.\u001b[39mmailto,\n\u001b[1;32m    377\u001b[0m         \u001b[38;5;28mself\u001b[39m\u001b[38;5;241m.\u001b[39mua_string,\n\u001b[0;32m   (...)\u001b[0m\n\u001b[1;32m    393\u001b[0m         \u001b[38;5;241m*\u001b[39m\u001b[38;5;241m*\u001b[39mkwargs\n\u001b[1;32m    394\u001b[0m     )\u001b[38;5;241m.\u001b[39mdo_request(should_warn\u001b[38;5;241m=\u001b[39mwarn)\n",
      "File \u001b[0;32m~/jupyter/lib/python3.10/site-packages/habanero/request.py:137\u001b[0m, in \u001b[0;36mrequest\u001b[0;34m(mailto, ua_string, url, path, ids, query, filter, offset, limit, sample, sort, order, facet, select, works, cursor, cursor_max, agency, progress_bar, should_warn, **kwargs)\u001b[0m\n\u001b[1;32m    135\u001b[0m     warnings\u001b[38;5;241m.\u001b[39mwarn(mssg)\n\u001b[1;32m    136\u001b[0m \u001b[38;5;28;01melse\u001b[39;00m:\n\u001b[0;32m--> 137\u001b[0m     \u001b[43mr\u001b[49m\u001b[38;5;241;43m.\u001b[39;49m\u001b[43mraise_for_status\u001b[49m\u001b[43m(\u001b[49m\u001b[43m)\u001b[49m\n\u001b[1;32m    139\u001b[0m \u001b[38;5;28;01mif\u001b[39;00m warning_thrown:\n\u001b[1;32m    140\u001b[0m     coll\u001b[38;5;241m.\u001b[39mappend(\u001b[38;5;28;01mNone\u001b[39;00m)\n",
      "File \u001b[0;32m~/jupyter/lib/python3.10/site-packages/requests/models.py:1021\u001b[0m, in \u001b[0;36mResponse.raise_for_status\u001b[0;34m(self)\u001b[0m\n\u001b[1;32m   1016\u001b[0m     http_error_msg \u001b[38;5;241m=\u001b[39m (\n\u001b[1;32m   1017\u001b[0m         \u001b[38;5;124mf\u001b[39m\u001b[38;5;124m\"\u001b[39m\u001b[38;5;132;01m{\u001b[39;00m\u001b[38;5;28mself\u001b[39m\u001b[38;5;241m.\u001b[39mstatus_code\u001b[38;5;132;01m}\u001b[39;00m\u001b[38;5;124m Server Error: \u001b[39m\u001b[38;5;132;01m{\u001b[39;00mreason\u001b[38;5;132;01m}\u001b[39;00m\u001b[38;5;124m for url: \u001b[39m\u001b[38;5;132;01m{\u001b[39;00m\u001b[38;5;28mself\u001b[39m\u001b[38;5;241m.\u001b[39murl\u001b[38;5;132;01m}\u001b[39;00m\u001b[38;5;124m\"\u001b[39m\n\u001b[1;32m   1018\u001b[0m     )\n\u001b[1;32m   1020\u001b[0m \u001b[38;5;28;01mif\u001b[39;00m http_error_msg:\n\u001b[0;32m-> 1021\u001b[0m     \u001b[38;5;28;01mraise\u001b[39;00m HTTPError(http_error_msg, response\u001b[38;5;241m=\u001b[39m\u001b[38;5;28mself\u001b[39m)\n",
      "\u001b[0;31mHTTPError\u001b[0m: 404 Client Error: Not Found for url: https://api.crossref.org/works/10.22967/HCIS.2021.11.028"
     ]
    }
   ],
   "source": [
    "# Generate RIS file from DOIs\n",
    "ris_content = dois_to_ris(dois)\n",
    "\n",
    "# Write RIS content to a file\n",
    "with open(\"metadata_entries.ris\", \"w\", encoding=\"utf-8\") as file:\n",
    "    file.write(ris_content)"
   ]
  },
  {
   "cell_type": "code",
   "execution_count": null,
   "id": "ef52fb98-be7b-4a32-8d5e-fe36af73e931",
   "metadata": {},
   "outputs": [],
   "source": []
  }
 ],
 "metadata": {
  "kernelspec": {
   "display_name": "Python 3 (ipykernel)",
   "language": "python",
   "name": "python3"
  },
  "language_info": {
   "codemirror_mode": {
    "name": "ipython",
    "version": 3
   },
   "file_extension": ".py",
   "mimetype": "text/x-python",
   "name": "python",
   "nbconvert_exporter": "python",
   "pygments_lexer": "ipython3",
   "version": "3.10.12"
  }
 },
 "nbformat": 4,
 "nbformat_minor": 5
}
