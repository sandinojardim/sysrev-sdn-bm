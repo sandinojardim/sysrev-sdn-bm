{
 "cells": [
  {
   "cell_type": "code",
   "execution_count": 2,
   "id": "2182974d-9d98-4768-a399-6a9b8a51853d",
   "metadata": {},
   "outputs": [],
   "source": [
    "import re\n",
    "from pybtex.database import parse_file, BibliographyData, Entry"
   ]
  },
  {
   "cell_type": "code",
   "execution_count": 3,
   "id": "841754ec-6f66-4387-aff8-8e60238498a6",
   "metadata": {},
   "outputs": [],
   "source": [
    "merged_db = BibliographyData()"
   ]
  },
  {
   "cell_type": "code",
   "execution_count": 43,
   "id": "25d4e796-8fd2-4bd6-b067-ca385cdc3239",
   "metadata": {},
   "outputs": [],
   "source": [
    "parser = parse_file('sd_raw_search2.bib')\n",
    "#parser2 = parse_file('test.bib')"
   ]
  },
  {
   "cell_type": "code",
   "execution_count": 44,
   "id": "cb1df3fd-5618-4255-92ce-b76704807306",
   "metadata": {},
   "outputs": [],
   "source": [
    "bib_data = parser.entries\n",
    "#bib_data2 = parser2.entries\n",
    "\n",
    "# Initialize an empty list to store matching entries\n",
    "matching_entries = BibliographyData()"
   ]
  },
  {
   "cell_type": "code",
   "execution_count": 45,
   "id": "51a106f5-77f1-4663-9f7c-7ffde5ec8317",
   "metadata": {},
   "outputs": [
    {
     "data": {
      "text/plain": [
       "2711"
      ]
     },
     "execution_count": 45,
     "metadata": {},
     "output_type": "execute_result"
    }
   ],
   "source": [
    "len(bib_data.items())"
   ]
  },
  {
   "cell_type": "code",
   "execution_count": 88,
   "id": "7609b5ba-25be-46e8-8956-a3a61b874eae",
   "metadata": {},
   "outputs": [],
   "source": [
    "p1 = set()\n",
    "p2 = set()"
   ]
  },
  {
   "cell_type": "code",
   "execution_count": 92,
   "id": "aa213694-a098-4068-9d8e-ae0e40d6b3c2",
   "metadata": {},
   "outputs": [
    {
     "name": "stdout",
     "output_type": "stream",
     "text": [
      "Performance Evaluation of Software-Defined Network (SDN) Controllers Using Dijkstra’s Algorithm\n",
      "Security Analysis of SDN Controller-Based DHCP Services and Attack Mitigation with DHCPguard\n",
      "Security Analysis of Multiple SDN Controllers Based on Stochastic Petri Nets\n",
      "Extensive Performance Analysis of OpenDayLight (ODL) and Open Network Operating System (ONOS) SDN Controllers\n",
      "Node to Node Performance Evaluation through RYU SDN Controller\n",
      "Evaluation of the Robustness of SDN Controllers ONOS and ODL\n",
      "Performance Evaluation Using RYU SDN Controller in Software-Defined Networking Environment\n",
      "SDN Controllers: A Comprehensive Analysis and Performance Evaluation Study\n",
      "Performance Evaluation of SDN-Controlled Green Mobile Fronthaul Using a Federation of Experimental Network Testbeds\n"
     ]
    }
   ],
   "source": [
    "for key, entry in bib_data.items():\n",
    "    print(entry.fields['title'])\n",
    "    #    print(entry.fields['doi'])\n",
    "        #matching_entries.add_entry(key, entry)"
   ]
  },
  {
   "cell_type": "code",
   "execution_count": 69,
   "id": "f116733c-9e59-4d4c-a565-457bdbce684c",
   "metadata": {},
   "outputs": [],
   "source": [
    "matching_entries.to_file('ieee_abstract2018.bib', 'bibtex')"
   ]
  },
  {
   "cell_type": "code",
   "execution_count": null,
   "id": "59a445db-13df-4b94-83b0-b4d19d160bd1",
   "metadata": {},
   "outputs": [],
   "source": [
    "len(matching_entries)"
   ]
  },
  {
   "cell_type": "code",
   "execution_count": 35,
   "id": "0a2509db-8e36-4019-b4b7-62131b1acad9",
   "metadata": {},
   "outputs": [],
   "source": [
    "# Define the filtering conditions\n",
    "operation_condition = [\"Benchmark\", \"Comparison\", \"Evaluation\", \"Assessment\", \"Analysis\"]\n",
    "keywords_condition = [\"Methodology\", \"Approach\", \"Technique\", \"Design\", \"Strategy\", \"Framework\", \"Model\", \"Standard\"]\n",
    "sdn_condition = [\"SDN\", \"software-defined network\", \"software defined network\"]\n",
    "controller_condition = [\"controller\"]"
   ]
  },
  {
   "cell_type": "code",
   "execution_count": null,
   "id": "543baef5-65e9-456b-8ef6-629145acb0cb",
   "metadata": {},
   "outputs": [],
   "source": [
    "# Define the keywords and conditions (Search Strategy 1)\n",
    "kpi_pattern = r\"\\b(performance|security|dependability|robustness|reliability|scalability|availability|resilience)\\b\"\n",
    "benchmark_pattern = r\"\\b(benchmark|assessment|analysis|comparison|evaluation)\\b\"\n",
    "sdn_pattern = r\"\\b(sdn|software defined network|software-defined network)\\b\"\n",
    "ctrl_pattern = r\"\\bcontroller\\b\""
   ]
  },
  {
   "cell_type": "code",
   "execution_count": null,
   "id": "c737eda3-af2b-44ff-b769-1c3e33802434",
   "metadata": {},
   "outputs": [],
   "source": [
    "# Define the keywords and conditions (Search Strategy 2)\n",
    "benchmark_pattern = r\"\\b(benchmark|assessment|analysis|comparison|evaluation)\\b\"\n",
    "method_pattern = r\"\\b(methodology|approach|technique|design|strategy|framework|model|standard)\\b\"\n",
    "sdn_pattern = r\"\\b(sdn|software defined network|software-defined network)\\b\"\n",
    "ctrl_pattern = r\"\\bcontroller\\b\""
   ]
  },
  {
   "cell_type": "code",
   "execution_count": 38,
   "id": "7900aaa5-72b1-4a48-a63c-cdceb90f2067",
   "metadata": {},
   "outputs": [],
   "source": [
    "# Iterate through entries and filter based on title conditions\n",
    "for key, entry in bib_data.items():\n",
    "    # Ensure the 'title' field exists in the entry\n",
    "    try:\n",
    "        title = entry.fields['abstract'].lower()\n",
    "    except KeyError:\n",
    "        # Ignore entries without a title field\n",
    "        continue\n",
    "        \n",
    "    # Check if all conditions are met\n",
    "    if any(keyword.lower() in title for keyword in keywords_condition) and \\\n",
    "           any(operation.lower() in title for operation in operation_condition) and \\\n",
    "           any((term.lower() in title) for term in sdn_condition) and \\\n",
    "           any((ctrl.lower() in title) for ctrl in controller_condition):\n",
    "                # If all conditions are met, add the entry to the filtered database\n",
    "                #print(entry.fields['title'].lower())\n",
    "                matching_entries.add_entry(key, entry)"
   ]
  },
  {
   "cell_type": "code",
   "execution_count": 39,
   "id": "0bf8aa44-0914-4288-9f6a-5daf45035104",
   "metadata": {},
   "outputs": [],
   "source": [
    "    with open(\"sd_abstract.bib\", 'w', encoding='utf-8') as bibfile:\n",
    "        matching_entries.to_file(bibfile)"
   ]
  },
  {
   "cell_type": "code",
   "execution_count": null,
   "id": "61232ac5-0aeb-4a7a-8c08-c8cf87c34c00",
   "metadata": {},
   "outputs": [],
   "source": [
    "# Iterate through entries and filter based on title conditions\n",
    "for entry in bib_data:\n",
    "    # Ensure the 'title' field exists in the entry\n",
    "    try:\n",
    "        title = entry[1].fields['title'].lower()\n",
    "        abstract = entry[1].fields['abstract'].lower()\n",
    "    except KeyError:\n",
    "        # Ignore entries without a title field\n",
    "        continue\n",
    "        \n",
    "    # Check if all conditions are met\n",
    "    if any(keyword.lower() in abstract for keyword in keywords_condition) and \\\n",
    "           any(operation.lower() in abstract for operation in operation_condition) and \\\n",
    "           any((term.lower() in abstract) for term in sdn_condition) and \\\n",
    "           any((ctrl.lower() in abstract) for ctrl in controller_condition):\n",
    "                # If all conditions are met, add the entry to the filtered database\n",
    "                print(title)\n",
    "                #filtered_db.add_entry(key, entry)"
   ]
  },
  {
   "cell_type": "code",
   "execution_count": null,
   "id": "01aa6d5f-262c-42e6-a460-ed10a7b97b23",
   "metadata": {},
   "outputs": [],
   "source": [
    "for entry in bib_data:\n",
    "    try:\n",
    "        entry_title = entry[1].fields['title']\n",
    "    except KeyError:\n",
    "        # Ignore entries without a title field\n",
    "        continue\n",
    "    kpi_match = re.search(kpi_pattern, entry_title)\n",
    "    benchmark_match = re.search(benchmark_pattern, entry_title)\n",
    "    sdn_match = re.search(sdn_pattern, entry_title)\n",
    "    if kpi_pattern:# and sdn_match and benchmark_match:# and benchmark_match and sdn_match:\n",
    "        print(entry_title)\n",
    "        #matching_entries.append(entry)"
   ]
  },
  {
   "cell_type": "code",
   "execution_count": null,
   "id": "7e1620e7-af44-4d81-9404-61e5ae8002d0",
   "metadata": {},
   "outputs": [],
   "source": [
    "abstract_only = (\n",
    "    df[\"Abstract\"].str.contains(\"|\".join(keywords1), case=False, na=False) &\n",
    "    df[\"Abstract\"].str.contains(\"|\".join(keywords2), case=False, na=False) &\n",
    "    df[\"Abstract\"].str.contains(\"|\".join(keywords3), case=False, na=False) &\n",
    "    df[\"Abstract\"].str.contains(\"|\".join(keywords4), case=False, na=False)\n",
    ")"
   ]
  },
  {
   "cell_type": "code",
   "execution_count": null,
   "id": "8276d553-0e57-490d-af3d-ade9ba9093f1",
   "metadata": {},
   "outputs": [],
   "source": [
    "title_and_abstract = (title_only & abstract_only)"
   ]
  }
 ],
 "metadata": {
  "kernelspec": {
   "display_name": "Python 3 (ipykernel)",
   "language": "python",
   "name": "python3"
  },
  "language_info": {
   "codemirror_mode": {
    "name": "ipython",
    "version": 3
   },
   "file_extension": ".py",
   "mimetype": "text/x-python",
   "name": "python",
   "nbconvert_exporter": "python",
   "pygments_lexer": "ipython3",
   "version": "3.10.12"
  }
 },
 "nbformat": 4,
 "nbformat_minor": 5
}
