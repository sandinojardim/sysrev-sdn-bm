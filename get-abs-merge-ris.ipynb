{
 "cells": [
  {
   "cell_type": "code",
   "execution_count": 25,
   "id": "2ed73417",
   "metadata": {},
   "outputs": [],
   "source": [
    "import rispy\n",
    "from bs4 import BeautifulSoup\n",
    "import requests, glob\n",
    "import pandas as pd\n",
    "import math"
   ]
  },
  {
   "cell_type": "code",
   "execution_count": null,
   "id": "0ac2bb5f-64e0-4f9c-a9d6-f59c25d9d8ff",
   "metadata": {},
   "outputs": [],
   "source": [
    "df = pd.read_csv('merged_all_no_duplicates.csv')\n",
    "df.set_index('DOI')"
   ]
  },
  {
   "cell_type": "code",
   "execution_count": 41,
   "id": "f8d628f4-1501-484b-b837-608dc776844f",
   "metadata": {},
   "outputs": [],
   "source": [
    "doi_abstract_dict = dict(zip(df['DOI'], df['Abstract Note']))"
   ]
  },
  {
   "cell_type": "code",
   "execution_count": 44,
   "id": "720b9b07-b70c-4ed3-a370-1bf0bd34dd2f",
   "metadata": {},
   "outputs": [
    {
     "ename": "KeyError",
     "evalue": "'10.1109/iccomm.2018.8484771'",
     "output_type": "error",
     "traceback": [
      "\u001b[0;31m---------------------------------------------------------------------------\u001b[0m",
      "\u001b[0;31mKeyError\u001b[0m                                  Traceback (most recent call last)",
      "Cell \u001b[0;32mIn[44], line 1\u001b[0m\n\u001b[0;32m----> 1\u001b[0m \u001b[43mdoi_abstract_dict\u001b[49m\u001b[43m[\u001b[49m\u001b[38;5;124;43m'\u001b[39;49m\u001b[38;5;124;43m10.1109/ICComm.2018.8484771\u001b[39;49m\u001b[38;5;124;43m'\u001b[39;49m\u001b[38;5;241;43m.\u001b[39;49m\u001b[43mlower\u001b[49m\u001b[43m(\u001b[49m\u001b[43m)\u001b[49m\u001b[43m]\u001b[49m\n",
      "\u001b[0;31mKeyError\u001b[0m: '10.1109/iccomm.2018.8484771'"
     ]
    }
   ],
   "source": [
    "doi_abstract_dict['10.1109/ICComm.2018.8484771'.lower()]"
   ]
  },
  {
   "cell_type": "code",
   "execution_count": 36,
   "id": "02feabe3",
   "metadata": {},
   "outputs": [],
   "source": [
    "def get_abstract_online(row):\n",
    "        op,query = doi_url(row)\n",
    "\n",
    "        if op == 1:\n",
    "            doi = query\n",
    "            article_url = f'https://link.springer.com/{doi}'\n",
    "        elif op == 2:\n",
    "            article_url = query\n",
    "\n",
    "        # Send an HTTP GET request to the article URL\n",
    "        try:\n",
    "            response = requests.get(article_url)\n",
    "        \n",
    "            # Check if the request was successful (status code 200)\n",
    "            if response.status_code == 200:\n",
    "                # Parse the HTML content of the article page\n",
    "                soup = BeautifulSoup(response.content, 'html.parser')\n",
    "    \n",
    "                # Find the abstract section using the HTML structure you provided\n",
    "                abstract_section = soup.find('section', {'data-title': 'Abstract'})\n",
    "    \n",
    "                if abstract_section:\n",
    "                    # Extract the text content of the abstract\n",
    "                    abstract_text = abstract_section.find('div', {'class': 'c-article-section__content'}).get_text()\n",
    "                    # Update the 'Abstract Note' column in the original DataFrame 'df'\n",
    "                    row['abstract'] = abstract_text\n",
    "                else:\n",
    "                    row['abstract'] = \"Abstract not found.\"\n",
    "        except:\n",
    "            row['abstract'] = \"Failed to retrieve data.\""
   ]
  },
  {
   "cell_type": "code",
   "execution_count": 38,
   "id": "29d192f7",
   "metadata": {},
   "outputs": [],
   "source": [
    "def doi_url(row):\n",
    "    query = ''\n",
    "    try:\n",
    "        query = row['doi']\n",
    "        return 1,query\n",
    "    except:\n",
    "        try:\n",
    "            query = row['urls']\n",
    "            return 2,query\n",
    "        except:\n",
    "            query = 'https://link.springer.com/10.1007/s12083-020-00947-w'\n",
    "            return 2,query"
   ]
  },
  {
   "cell_type": "code",
   "execution_count": 46,
   "id": "61b88e67",
   "metadata": {},
   "outputs": [
    {
     "name": "stdout",
     "output_type": "stream",
     "text": [
      "Working on ris/merge-all-13001-13500.ris\n",
      "Working on ris/merge-all-14001-14500.ris\n",
      "Working on ris/merge-all-3001-3500.ris\n",
      "Working on ris/merge-all-0001-1000.ris\n",
      "Working on ris/merge-all-7001-7500.ris\n",
      "Working on ris/merge-all-7501-8000.ris\n",
      "Working on ris/merge-all-failed.ris\n",
      "Working on ris/merge-all-10501-11000.ris\n",
      "Working on ris/merge-all-4001-4500.ris\n",
      "Working on ris/merge-all-9501-10000.ris\n",
      "Working on ris/merge-all-11501-12000.ris\n",
      "Working on ris/merge-all-9001-9500.ris\n",
      "Working on ris/merge-all-5501-6000.ris\n",
      "Working on ris/merge-all-10001-10500.ris\n",
      "Working on ris/merge-all-6001-6500.ris\n",
      "Working on ris/merge-all-3501-4000.ris\n",
      "Working on ris/merge-all-5001-5500.ris\n",
      "Working on ris/merge-all-11001-11500.ris\n",
      "Working on ris/merge-all-1001-1500.ris\n",
      "Working on ris/merge-all-2001-2500.ris\n",
      "Working on ris/merge-all-12001-12500.ris\n",
      "Working on ris/merge-all-1501-2000.ris\n",
      "Working on ris/merge-all-8501-9000.ris\n",
      "Working on ris/merge-all-13501-14000.ris\n",
      "Working on ris/merge-all-14501-14600.ris\n",
      "Working on ris/merge-all-8001-8500.ris\n",
      "Working on ris/merge-all-6501-7000.ris\n",
      "Working on ris/merge-all-2501-3000.ris\n",
      "Working on ris/merge-all-4501-5000.ris\n",
      "Working on ris/merge-all-12501-13000.ris\n"
     ]
    }
   ],
   "source": [
    "# Load RIS file\n",
    "prefix = 'merge-all-'\n",
    "input_files = glob.glob(f\"ris/{prefix}*.ris\")\n",
    "merged_entries = []\n",
    "survey_entries = []\n",
    "for ris_file in input_files:\n",
    "    print(f'Working on {ris_file}')\n",
    "    with open(ris_file, 'r') as bibliography_file:\n",
    "        entries = rispy.load(bibliography_file)\n",
    "        for entry in entries:\n",
    "            if 'abstract' not in entry:\n",
    "                try:\n",
    "                    abs = doi_abstract_dict[entry['doi']]\n",
    "                except:\n",
    "                    abs = float(0)\n",
    "                if isinstance(abs,str):\n",
    "                    entry['abstract'] = abs\n",
    "                else:\n",
    "                    get_abstract_online(entry)\n",
    "            if 'survey' in entry['title'].lower():\n",
    "                survey_entries.append(entry)\n",
    "            else:\n",
    "                if 'book' not in entry['type_of_reference']:\n",
    "                    merged_entries.append(entry)"
   ]
  },
  {
   "cell_type": "code",
   "execution_count": 47,
   "id": "3142e905",
   "metadata": {},
   "outputs": [],
   "source": [
    "with open('merged-final.ris', 'w') as bibliography_file:\n",
    "    rispy.dump(merged_entries, bibliography_file)\n",
    "with open('surveys-final.ris', 'w') as bibliography_file:\n",
    "    rispy.dump(survey_entries, bibliography_file)"
   ]
  }
 ],
 "metadata": {
  "kernelspec": {
   "display_name": "Python 3 (ipykernel)",
   "language": "python",
   "name": "python3"
  },
  "language_info": {
   "codemirror_mode": {
    "name": "ipython",
    "version": 3
   },
   "file_extension": ".py",
   "mimetype": "text/x-python",
   "name": "python",
   "nbconvert_exporter": "python",
   "pygments_lexer": "ipython3",
   "version": "3.10.12"
  }
 },
 "nbformat": 4,
 "nbformat_minor": 5
}
