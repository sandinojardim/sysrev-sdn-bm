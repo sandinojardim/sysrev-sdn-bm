{
 "cells": [
  {
   "cell_type": "code",
   "execution_count": 20,
   "id": "c509519c-3bed-4a3e-9596-41bed025ec40",
   "metadata": {},
   "outputs": [],
   "source": [
    "import pandas as pd\n",
    "from bibtexparser.bwriter import BibTexWriter\n",
    "#from bibtexparser import BibDatabase"
   ]
  },
  {
   "cell_type": "code",
   "execution_count": 11,
   "id": "116e9c40-a845-4df6-aca5-e79662443452",
   "metadata": {},
   "outputs": [],
   "source": [
    "title = 'springer-title_only'"
   ]
  },
  {
   "cell_type": "code",
   "execution_count": 36,
   "id": "1a2665d3-8480-401d-98ef-0e51c379fcc4",
   "metadata": {},
   "outputs": [],
   "source": [
    "df = pd.read_csv(title+'.csv')"
   ]
  },
  {
   "cell_type": "code",
   "execution_count": 39,
   "id": "22d93ddd-ab68-45d6-af1b-bf9a717fb153",
   "metadata": {},
   "outputs": [
    {
     "data": {
      "text/plain": [
       "0                    Deepjyot Kaur RyaitManmohan Sharma\n",
       "1        Sachin H. DarekarM. Z. ShaikhHarshal B. Kondke\n",
       "2     B. KeerthanaMamatha BalachandraHarishchandra H...\n",
       "3                             Dharmender KumarManu Sood\n",
       "4                 Carlos SilvaBruno SousaJoão P. Vilela\n",
       "5                               B. M. RashmaG. Poornima\n",
       "6                                       Sangeeta Mittal\n",
       "7        Shishupal KumarNidhi LalVijay Kumar Chaurasiya\n",
       "8                               Yinjun ZhangMengji Chen\n",
       "9                             Shanu BhardwajS. N. Panda\n",
       "10                     Idris Z. BholebawaUpena D. Dalal\n",
       "11            Md. Tariqul IslamNazrul IslamMd. Al Refat\n",
       "12                    Qamar IlyasRahamatullah Khondoker\n",
       "Name: Authors, dtype: object"
      ]
     },
     "execution_count": 39,
     "metadata": {},
     "output_type": "execute_result"
    }
   ],
   "source": [
    "df[\"Authors\"]"
   ]
  },
  {
   "cell_type": "code",
   "execution_count": 37,
   "id": "94093f89-9b4b-4342-bf9e-73dfa90a37d7",
   "metadata": {},
   "outputs": [],
   "source": [
    "entries = []\n",
    "for index, row in df.iterrows():\n",
    "    entry = (\n",
    "        f\"@article{{{row['Item Title'].replace(' ', '_')},\\n\"\n",
    "        f\"  title = {{ {row['Item Title']} }},\\n\"\n",
    "        f\"  author = {{ {row['Authors']} }},\\n\"\n",
    "        f\"  year = {{ {row['Publication Year']} }},\\n\"\n",
    "        f\"  booktitle = {{ {row['Publication Title']} }},\\n\"\n",
    "        f\"  doi = {{ {row['Item DOI']} }},\\n\"\n",
    "        f\"  url = {{ {row['URL']} }},\\n\"\n",
    "        f\"  abstract = {{ {row['Abstract']} }}\\n\"\n",
    "        f\"}}\\n\"\n",
    "    )\n",
    "    entries.append(entry)\n"
   ]
  },
  {
   "cell_type": "code",
   "execution_count": 38,
   "id": "0058bf5b-9d68-4923-9c17-140d95b270cb",
   "metadata": {},
   "outputs": [
    {
     "name": "stdout",
     "output_type": "stream",
     "text": [
      "BibTeX file 'output.bib' created.\n"
     ]
    }
   ],
   "source": [
    "with open(title+'.bib', 'w') as bib_file:\n",
    "    bib_file.writelines(entries)\n",
    "\n",
    "print(\"BibTeX file 'output.bib' created.\")"
   ]
  }
 ],
 "metadata": {
  "kernelspec": {
   "display_name": "Python 3 (ipykernel)",
   "language": "python",
   "name": "python3"
  },
  "language_info": {
   "codemirror_mode": {
    "name": "ipython",
    "version": 3
   },
   "file_extension": ".py",
   "mimetype": "text/x-python",
   "name": "python",
   "nbconvert_exporter": "python",
   "pygments_lexer": "ipython3",
   "version": "3.10.12"
  }
 },
 "nbformat": 4,
 "nbformat_minor": 5
}
