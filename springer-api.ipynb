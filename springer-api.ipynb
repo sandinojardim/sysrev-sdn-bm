{
 "cells": [
  {
   "cell_type": "code",
   "execution_count": 22,
   "id": "d4f1ea5b",
   "metadata": {},
   "outputs": [],
   "source": [
    "import requests, time\n",
    "import pandas as pd"
   ]
  },
  {
   "cell_type": "code",
   "execution_count": 8,
   "id": "0b41e341",
   "metadata": {},
   "outputs": [],
   "source": [
    "api_key = '50c5f875b63eacc5a596d1f74aa9da7f'\n",
    "doi = '10.1007/s10922-023-09732-5'"
   ]
  },
  {
   "cell_type": "code",
   "execution_count": 62,
   "id": "86758ccf",
   "metadata": {},
   "outputs": [],
   "source": [
    "df = pd.read_csv('diego2.csv')\n",
    "abstracts = []"
   ]
  },
  {
   "cell_type": "code",
   "execution_count": 67,
   "id": "d0bae58b",
   "metadata": {},
   "outputs": [],
   "source": [
    "def doi_url(row):\n",
    "    query = ''\n",
    "    if row['DOI'] != NaN:\n",
    "        query = row['DOI']\n",
    "        return 1,query\n",
    "    elif row['Url'] != Nan:\n",
    "        query = row['Url']\n",
    "        return 2,query"
   ]
  },
  {
   "cell_type": "code",
   "execution_count": 68,
   "id": "909df49c",
   "metadata": {},
   "outputs": [
    {
     "data": {
      "text/plain": [
       "0                                                   NaN\n",
       "1                                                   NaN\n",
       "2                                                   NaN\n",
       "3                                                   NaN\n",
       "4                                                   NaN\n",
       "5                                                   NaN\n",
       "6                                                   NaN\n",
       "7                                                   NaN\n",
       "8     Abstract             With the expansion of hum...\n",
       "9                                                   NaN\n",
       "10                                                  NaN\n",
       "11                                                  NaN\n",
       "12                                                  NaN\n",
       "13                                                  NaN\n",
       "14    Abstract             The Fifth Generation Comm...\n",
       "15                                                  NaN\n",
       "16                                                  NaN\n",
       "17    Abstract             Family doctors can have a...\n",
       "18    The design and development of the so-called sm...\n",
       "19                                                  NaN\n",
       "20                                                  NaN\n",
       "Name: Abstract Note, dtype: object"
      ]
     },
     "execution_count": 68,
     "metadata": {},
     "output_type": "execute_result"
    }
   ],
   "source": [
    "df['Abstract Note']"
   ]
  },
  {
   "cell_type": "code",
   "execution_count": 28,
   "id": "6a865ce0",
   "metadata": {},
   "outputs": [
    {
     "name": "stdout",
     "output_type": "stream",
     "text": [
      "DOI:  10.1007/978-981-16-7330-6_25\n",
      "{'apiMessage': 'This JSON was provided by Springer Nature', 'query': 'doi:10.1007/978-981-16-7330-6_25', 'apiKey': '50c5f875b63eacc5a596d1f74aa9da7f', 'result': [{'total': '1', 'start': '1', 'pageLength': '10', 'recordsDisplayed': '1'}], 'records': [{'contentType': 'Chapter ConferencePaper', 'identifier': 'doi:10.1007/978-981-16-7330-6_25', 'language': 'en', 'url': [{'format': '', 'platform': '', 'value': 'http://dx.doi.org/10.1007/978-981-16-7330-6_25'}], 'title': 'Performance Evaluation of Various Open Flow SDN Controllers by Addressing Scalability Metric Based on Multifarious Topology Design on Software-defined Networks: A Comprehensive Survey', 'creators': [{'ORCID': '0000-0003-0498-7343', 'creator': 'Darekar, Sachin H.'}, {'creator': 'Shaikh, M. Z.'}, {'creator': 'Kondke, Harshal B.'}], 'publicationName': 'Proceedings of Third International Conference on Intelligent Computing, Information and Control Systems', 'openaccess': 'false', 'doi': '10.1007/978-981-16-7330-6_25', 'publisher': 'Springer', 'publicationDate': '2022-01-01', 'publicationType': 'Book', 'printIsbn': '978-981-16-7329-0', 'electronicIsbn': '978-981-16-7330-6', 'isbn': '978-981-16-7329-0', 'genre': 'OriginalPaper', 'copyright': '©2022 The Editor(s) (if applicable) and The Author(s), under exclusive license to Springer Nature Singapore Pte Ltd.', 'abstract': 'The Internet has reached a breaking point, enabling ubiquitous accessibility to all digital demands. Though people have accelerated their use of overall digital demands due to the convenience of the Internet, where nearly everything is connected and accessible, it is becoming increasingly difficult to manage and modify networks. It is always a challenge to meet the emerging needs of network industry. SDN framework was proposed to overcome traditional network architecture (TNA) restrictions in order to cope with contemporary network management in terms of flexibility, agility, responding to faults, and dynamic changes. SDN assists network operators by uncoupling the control plane from its underlying ternary content-addressable memory (TCAM) hardware often called as forwarding plane by allowing the networks to programme as per the anticipated network functionality. Now, switching from traditional to software-defined networking styles, it is worth to check the robustness of the open flow (south bound interface)-based controller platform and the capability of its fault tolerance attribute to approach the successful SDN implementation. The performance of SDN open flow controllers plays a vital role in SDN implementation, which is meant for the separation between control and data plane to leverage the life of network industry. This paper comprehensively surveys the contrast between traditional network architecture (TNA) and software-defined network architecture. This research work discusses about the best feasible SDN implementation, as well as the selection of a useful controller platform for overcoming traditional network constraints and the performance assessment criteria for SDN open flow controllers. Further, the survey is continued with possible literature or work done by various researchers on performance analysis and evaluation of open flow-based SDN controllers as well as in a group of two or more controllers with respect to multifarious network condition, network criteria/parameter/metric, scaling of network load resources with most important varying network topology design. Ultimately, it strives to point ongoing research omission with respect to controller’s performance bottleneck benchmark suggesting optimized solution when it is well experimented.', 'subjects': ['Engineering', 'Computational Intelligence', 'Control, Robotics, Mechatronics', 'Artificial Intelligence', 'Science and Technology Studies']}], 'facets': [{'name': 'subject', 'values': [{'value': 'Artificial Intelligence', 'count': '1'}, {'value': 'Computational Intelligence', 'count': '1'}, {'value': 'Control, Robotics, Mechatronics', 'count': '1'}, {'value': 'Engineering', 'count': '1'}, {'value': 'Science and Technology Studies', 'count': '1'}]}, {'name': 'keyword', 'values': [{'value': 'Open flow protocol', 'count': '1'}, {'value': 'Performance evaluation/analysis', 'count': '1'}, {'value': 'SDN open flow controllers', 'count': '1'}, {'value': 'Software-defined networking (SDN)', 'count': '1'}, {'value': 'Traditional network architecture (TNA)', 'count': '1'}]}, {'name': 'pub', 'values': [{'value': 'Proceedings of Third International Conference on Intelligent Computing, Information and Control Systems', 'count': '1'}]}, {'name': 'year', 'values': [{'value': '2022', 'count': '1'}]}, {'name': 'country', 'values': [{'value': 'India', 'count': '1'}]}, {'name': 'type', 'values': [{'value': 'Book', 'count': '1'}]}]}\n",
      "DOI:  10.1007/978-3-319-10353-2_19\n",
      "{'apiMessage': 'This JSON was provided by Springer Nature', 'query': 'doi:10.1007/978-3-319-10353-2_19', 'apiKey': '50c5f875b63eacc5a596d1f74aa9da7f', 'result': [{'total': '1', 'start': '1', 'pageLength': '10', 'recordsDisplayed': '1'}], 'records': [{'contentType': 'Chapter ConferencePaper', 'identifier': 'doi:10.1007/978-3-319-10353-2_19', 'language': 'en', 'url': [{'format': '', 'platform': '', 'value': 'http://dx.doi.org/10.1007/978-3-319-10353-2_19'}], 'title': 'Network Resource Control System for HPC Based on SDN', 'creators': [{'creator': 'Polezhaev, Petr'}, {'creator': 'Shukhman, Alexander'}, {'creator': 'Ushakov, Yuri'}], 'publicationName': 'Internet of Things, Smart Spaces, and Next Generation Networks and Systems', 'openaccess': 'false', 'doi': '10.1007/978-3-319-10353-2_19', 'publisher': 'Springer', 'publicationDate': '2014-01-01', 'publicationType': 'Book', 'printIsbn': '978-3-319-10352-5', 'electronicIsbn': '978-3-319-10353-2', 'isbn': '978-3-319-10352-5', 'genre': 'OriginalPaper', 'copyright': '©2014 Springer International Publishing Switzerland', 'abstract': 'This article describes network resource control system for HPC based on software defined network (SDN). For job scheduling this system uses BackFill algorithm modifications with job assignment algorithms Summed Distance Minimization and Maximum Distance Minimization we have developed. We also offer data flow control methods for SDN in high-performance systems such as reactive and proactive algorithms. Our experiment has shown that BackFill scheduling algorithm in combination with Summed Distance Minimization and the proactive routing algorithm demonstrates a significant decrease in execution time for the reference communication-intensive job flow on a cluster.', 'subjects': ['Computer Science', 'Computer Communication Networks', 'System Performance and Evaluation', 'Management of Computing and Information Systems', 'Communications Engineering, Networks']}], 'facets': [{'name': 'subject', 'values': [{'value': 'Communications Engineering, Networks', 'count': '1'}, {'value': 'Computer Communication Networks', 'count': '1'}, {'value': 'Computer Science', 'count': '1'}, {'value': 'Management of Computing and Information Systems', 'count': '1'}, {'value': 'System Performance and Evaluation', 'count': '1'}]}, {'name': 'keyword', 'values': [{'value': 'computing job scheduling', 'count': '1'}, {'value': 'data flow control', 'count': '1'}, {'value': 'resource control', 'count': '1'}, {'value': 'software defined networks', 'count': '1'}]}, {'name': 'pub', 'values': [{'value': 'Internet of Things, Smart Spaces, and Next Generation Networks and Systems', 'count': '1'}]}, {'name': 'year', 'values': [{'value': '2014', 'count': '1'}]}, {'name': 'country', 'values': [{'value': 'Russia', 'count': '1'}]}, {'name': 'type', 'values': [{'value': 'Book', 'count': '1'}]}]}\n",
      "DOI:  10.1007/978-3-030-91244-4_15\n",
      "{'apiMessage': 'This JSON was provided by Springer Nature', 'query': 'doi:10.1007/978-3-030-91244-4_15', 'apiKey': '50c5f875b63eacc5a596d1f74aa9da7f', 'result': [{'total': '1', 'start': '1', 'pageLength': '10', 'recordsDisplayed': '1'}], 'records': [{'contentType': 'Chapter ConferencePaper', 'identifier': 'doi:10.1007/978-3-030-91244-4_15', 'language': 'en', 'url': [{'format': '', 'platform': '', 'value': 'http://dx.doi.org/10.1007/978-3-030-91244-4_15'}], 'title': 'Evaluating the Performance of POX and RYU SDN Controllers Using Mininet', 'creators': [{'creator': 'Kazi, Nafees M.'}, {'creator': 'Suralkar, Shekhar R.'}, {'creator': 'Bhadade, Umesh S.'}], 'publicationName': 'Data Science and Computational Intelligence', 'openaccess': 'false', 'doi': '10.1007/978-3-030-91244-4_15', 'publisher': 'Springer', 'publicationDate': '2021-01-01', 'publicationType': 'Book', 'printIsbn': '978-3-030-91243-7', 'electronicIsbn': '978-3-030-91244-4', 'isbn': '978-3-030-91243-7', 'genre': 'OriginalPaper', 'copyright': '©2021 Springer Nature Switzerland AG', 'abstract': 'Software Defined Networks (SDN) has attracted the researchers and industry due to their flexibility and programmability. SDN has been differentiated from traditional networks in terms of separation of the control plane and forwarding functions. The forwarding decisions are sent by the controller to switches and routers. The switches are responsible only for logical forwarding of the packets. Hence performance of any SDN network depends on the performance of the controller. Lot of SDN controllers are available. In this paper we have evaluated the performance of two well-known python base SDN controllers POX and RYU. Mininet is used as the simulation tool. The performance is evaluated for linear topology, tree topology and datacenter topology with varying scales. We have used D-ITG for performance evaluation. Iperf is also used for measuring the maximum available bandwidth. RYU controller performs better in terms of average delay, jitter, bitrate and throughput. The selection of the controller depends on the application requirements.', 'subjects': ['Computer Science', 'Information Systems and Communication Service', 'Artificial Intelligence', 'Computer Applications', 'Software Engineering/Programming and Operating Systems', 'Computer System Implementation', 'Data Mining and Knowledge Discovery']}], 'facets': [{'name': 'subject', 'values': [{'value': 'Artificial Intelligence', 'count': '1'}, {'value': 'Computer Applications', 'count': '1'}, {'value': 'Computer Science', 'count': '1'}, {'value': 'Computer System Implementation', 'count': '1'}, {'value': 'Data Mining and Knowledge Discovery', 'count': '1'}, {'value': 'Information Systems and Communication Service', 'count': '1'}, {'value': 'Software Engineering/Programming and Operating Systems', 'count': '1'}]}, {'name': 'keyword', 'values': [{'value': 'D-TIG', 'count': '1'}, {'value': 'Mininet', 'count': '1'}, {'value': 'POX', 'count': '1'}, {'value': 'RYU', 'count': '1'}, {'value': 'SDN', 'count': '1'}]}, {'name': 'pub', 'values': [{'value': 'Data Science and Computational Intelligence', 'count': '1'}]}, {'name': 'year', 'values': [{'value': '2021', 'count': '1'}]}, {'name': 'country', 'values': [{'value': 'India', 'count': '1'}]}, {'name': 'type', 'values': [{'value': 'Book', 'count': '1'}]}]}\n"
     ]
    },
    {
     "name": "stdout",
     "output_type": "stream",
     "text": [
      "DOI:  10.1007/978-3-030-39181-2_13\n",
      "{'apiMessage': 'This JSON was provided by Springer Nature', 'query': 'doi:10.1007/978-3-030-39181-2_13', 'apiKey': '50c5f875b63eacc5a596d1f74aa9da7f', 'result': [{'total': '1', 'start': '1', 'pageLength': '10', 'recordsDisplayed': '1'}], 'records': [{'contentType': 'Chapter ConferencePaper', 'identifier': 'doi:10.1007/978-3-030-39181-2_13', 'language': 'en', 'url': [{'format': '', 'platform': '', 'value': 'http://dx.doi.org/10.1007/978-3-030-39181-2_13'}], 'title': 'Integrating SDN-Enhanced MPI with Job Scheduler to Support Shared Clusters', 'creators': [{'creator': 'Takahashi, Keichi'}, {'creator': 'Date, Susumu'}, {'creator': 'Watashiba, Yasuhiro'}, {'creator': 'Kido, Yoshiyuki'}, {'creator': 'Shimojo, Shinji'}], 'publicationName': 'Sustained Simulation Performance 2018 and 2019', 'openaccess': 'false', 'doi': '10.1007/978-3-030-39181-2_13', 'publisher': 'Springer', 'publicationDate': '2020-01-01', 'publicationType': 'Book', 'printIsbn': '978-3-030-39180-5', 'electronicIsbn': '978-3-030-39181-2', 'isbn': '978-3-030-39180-5', 'genre': 'OriginalPaper', 'copyright': '©2020 Springer Nature Switzerland AG', 'abstract': 'SDN-enhanced MPI is a framework that integrates the network programmability of Software-Defined Networking (SDN) with Message Passing Interface (MPI). The aim of SDN-enhanced MPI is to improve MPI communication performance by dynamically steering the traffic within the interconnect based on the communication pattern of applications. A major limitation in the current implementation of SDN-enhanced MPI is that multiple jobs cannot be executed concurrently. This paper removes this limitation by integrating SDN-enhanced MPI with the job scheduler of the cluster. Specifically, we have developed a plugin for the job scheduler that collects and reports the job information to the interconnect controller. A preliminary evaluation demonstrated that applications could gain up to 2.56× speedup in communication.', 'subjects': ['Mathematics', 'Computational Science and Engineering', 'Simulation and Modeling', 'Mathematical and Computational Engineering']}], 'facets': [{'name': 'subject', 'values': [{'value': 'Computational Science and Engineering', 'count': '1'}, {'value': 'Mathematical and Computational Engineering', 'count': '1'}, {'value': 'Mathematics', 'count': '1'}, {'value': 'Simulation and Modeling', 'count': '1'}]}, {'name': 'keyword', 'values': []}, {'name': 'pub', 'values': [{'value': 'Sustained Simulation Performance 2018 and 2019', 'count': '1'}]}, {'name': 'year', 'values': [{'value': '2020', 'count': '1'}]}, {'name': 'country', 'values': [{'value': 'Japan', 'count': '1'}]}, {'name': 'type', 'values': [{'value': 'Book', 'count': '1'}]}]}\n",
      "DOI:  10.1007/978-3-662-49390-8_61\n",
      "{'apiMessage': 'This JSON was provided by Springer Nature', 'query': 'doi:10.1007/978-3-662-49390-8_61', 'apiKey': '50c5f875b63eacc5a596d1f74aa9da7f', 'result': [{'total': '0', 'start': '1', 'pageLength': '10', 'recordsDisplayed': '0'}], 'records': [], 'facets': [{'name': 'subject', 'values': []}, {'name': 'keyword', 'values': []}, {'name': 'pub', 'values': []}, {'name': 'year', 'values': []}, {'name': 'country', 'values': []}, {'name': 'type', 'values': []}]}\n"
     ]
    },
    {
     "ename": "IndexError",
     "evalue": "list index out of range",
     "output_type": "error",
     "traceback": [
      "\u001b[0;31m---------------------------------------------------------------------------\u001b[0m",
      "\u001b[0;31mIndexError\u001b[0m                                Traceback (most recent call last)",
      "Input \u001b[0;32mIn [28]\u001b[0m, in \u001b[0;36m<cell line: 1>\u001b[0;34m()\u001b[0m\n\u001b[1;32m     14\u001b[0m     \u001b[38;5;28mprint\u001b[39m(data)\n\u001b[1;32m     16\u001b[0m     \u001b[38;5;66;03m# Extract the abstract and append it to the 'abstracts' list\u001b[39;00m\n\u001b[0;32m---> 17\u001b[0m     abstract \u001b[38;5;241m=\u001b[39m \u001b[43mdata\u001b[49m\u001b[43m[\u001b[49m\u001b[38;5;124;43m'\u001b[39;49m\u001b[38;5;124;43mrecords\u001b[39;49m\u001b[38;5;124;43m'\u001b[39;49m\u001b[43m]\u001b[49m\u001b[43m[\u001b[49m\u001b[38;5;241;43m0\u001b[39;49m\u001b[43m]\u001b[49m[\u001b[38;5;124m'\u001b[39m\u001b[38;5;124mabstract\u001b[39m\u001b[38;5;124m'\u001b[39m]\n\u001b[1;32m     18\u001b[0m     abstracts\u001b[38;5;241m.\u001b[39mappend(abstract)\n\u001b[1;32m     19\u001b[0m \u001b[38;5;28;01melse\u001b[39;00m:\n\u001b[1;32m     20\u001b[0m     \u001b[38;5;66;03m# Handle errors if needed\u001b[39;00m\n",
      "\u001b[0;31mIndexError\u001b[0m: list index out of range"
     ]
    }
   ],
   "source": [
    "for index, row in df.iterrows():\n",
    "    op,query = doi_url(row)\n",
    "    \n",
    "    if op == 1:\n",
    "        doi = query\n",
    "        url = f'http://api.springernature.com/metadata/json/doi/{doi}?api_key={api_key}'\n",
    "    elif op == 2:\n",
    "        url = query\n",
    "     \n",
    "    # Send the API request\n",
    "    response = requests.get(url, headers=headers)\n",
    "    \n",
    "    # Check if the request was successful (status code 200)\n",
    "    if response.status_code == 200:\n",
    "        # Parse the response JSON\n",
    "        print('DOI: ',doi)\n",
    "        data = response.json()\n",
    "        print(data)\n",
    "        \n",
    "        # Extract the abstract and append it to the 'abstracts' list\n",
    "        abstract = data['records'][0]['abstract']\n",
    "        abstracts.append(abstract)\n",
    "    else:\n",
    "        # Handle errors if needed\n",
    "        print(f\"Failed to retrieve data for DOI {doi}. Status code: {response.status_code}\")\n",
    "    \n",
    "    time.sleep(1)\n"
   ]
  },
  {
   "cell_type": "code",
   "execution_count": 15,
   "id": "d940ac26",
   "metadata": {},
   "outputs": [
    {
     "name": "stdout",
     "output_type": "stream",
     "text": [
      "Abstract: Software-Defined Networking (SDN) has attracted much attention from research and industrial communities recently as it is more agile and flexible compared to conventional networking technology in offering new network functions and services. By separating the network control functions from the forwarding devices and placing them in a centralized, softwarized and programmable SDN controller, new network functions and services can be easily added into the network in an on-demand manner. However, the centralized control paradigm and the flow-based forwarding principle make the SDN architecture more fragile and vulnerable to malicious actions, such as cyber hijacking or DDoS attacks. In this paper, we focus on analyzing and evaluating negative impacts of DDoS attacks on the SDN architecture. By performing stress tests, the performance of such common SDN controllers as POX, Ryu and Floodlight under DDoS attacks is benchmarked, along with their impacts on the SDN switch and OpenFlow channel. We also address some new threats and vulnerabilities introduced by the nature of SDN.\n"
     ]
    }
   ],
   "source": [
    "response = requests.get(url)\n",
    "\n",
    "if response.status_code == 200:\n",
    "    data = response.json()\n",
    "    print('Abstract:', data['records'][0]['abstract'])\n",
    "else:\n",
    "    print('Failed to retrieve data:', response.status_code)"
   ]
  }
 ],
 "metadata": {
  "kernelspec": {
   "display_name": "Local Py",
   "language": "python",
   "name": "local-py"
  },
  "language_info": {
   "codemirror_mode": {
    "name": "ipython",
    "version": 3
   },
   "file_extension": ".py",
   "mimetype": "text/x-python",
   "name": "python",
   "nbconvert_exporter": "python",
   "pygments_lexer": "ipython3",
   "version": "3.10.12"
  }
 },
 "nbformat": 4,
 "nbformat_minor": 5
}
