{
 "cells": [
  {
   "cell_type": "code",
   "execution_count": 1,
   "id": "8f57b90a-53a1-48dd-8e4b-30855f125a5b",
   "metadata": {},
   "outputs": [],
   "source": [
    "import pandas as pd"
   ]
  },
  {
   "cell_type": "code",
   "execution_count": 22,
   "id": "5e8e7e0a-bcba-428b-b96b-6e181531505a",
   "metadata": {},
   "outputs": [],
   "source": [
    "df = pd.read_csv('springer-wide-raw-search-with-abstract.csv')\n",
    "#df = pd.read_csv('merged-searches.csv')"
   ]
  },
  {
   "cell_type": "code",
   "execution_count": 18,
   "id": "e7a40264-8ef3-4dfb-a9a7-32524e56bcea",
   "metadata": {},
   "outputs": [],
   "source": [
    "# Define the keywords and conditions (Search Strategy 1)\n",
    "keywords1 = [\"Performance\", \"Security\", \"Dependability\", \"Robustness\", \"Reliability\", \"Scalability\", \"Availability\", \"Resilience\"]\n",
    "keywords2 = [\"Benchmark\", \"Comparison\", \"Evaluation\", \"Assessment\", \"Analysis\"]\n",
    "keywords_s2 = [\"Methodology\", \"Approach\", \"Technique\", \"Design\", \"Strategy\", \"Framework\", \"Model\", \"Standard\"]\n",
    "keywords3 = [\"SDN\", \"software-defined network*\", \"software defined network*\"]\n",
    "keywords4 = [\"controller\"]"
   ]
  },
  {
   "cell_type": "code",
   "execution_count": 23,
   "id": "869ff79a-60bd-4816-9180-1a1ee7bd2188",
   "metadata": {},
   "outputs": [],
   "source": [
    "title_only = (\n",
    "    df[\"Item Title\"].str.contains(\"|\".join(keywords2), case=False, na=False) &\n",
    "    df[\"Item Title\"].str.contains(\"|\".join(keywords_s2), case=False, na=False) &\n",
    "    df[\"Item Title\"].str.contains(\"|\".join(keywords3), case=False, na=False) &\n",
    "    df[\"Item Title\"].str.contains(\"|\".join(keywords4), case=False, na=False) \n",
    ")"
   ]
  },
  {
   "cell_type": "code",
   "execution_count": 24,
   "id": "46f11aad-14a5-4914-b174-d23d6cdca3eb",
   "metadata": {},
   "outputs": [],
   "source": [
    "abstract_only = (\n",
    "    df[\"Abstract\"].str.contains(\"|\".join(keywords2), case=False, na=False) &\n",
    "    df[\"Abstract\"].str.contains(\"|\".join(keywords_s2), case=False, na=False) &\n",
    "    df[\"Abstract\"].str.contains(\"|\".join(keywords3), case=False, na=False) &\n",
    "    df[\"Abstract\"].str.contains(\"|\".join(keywords4), case=False, na=False)\n",
    ")"
   ]
  },
  {
   "cell_type": "code",
   "execution_count": 21,
   "id": "2516a715-ac79-4b6d-b271-bbd5221b467a",
   "metadata": {},
   "outputs": [],
   "source": [
    "title_and_abstract = (title_only & abstract_only)"
   ]
  },
  {
   "cell_type": "code",
   "execution_count": 27,
   "id": "26351a87-1295-4c0c-a1ad-1fa3dcea1963",
   "metadata": {},
   "outputs": [],
   "source": [
    "# Apply the filter to the DataFrame\n",
    "filtered_df = df[abstract_only]"
   ]
  },
  {
   "cell_type": "code",
   "execution_count": 28,
   "id": "28658134-fb90-4a6c-aa29-c08d51f97817",
   "metadata": {},
   "outputs": [],
   "source": [
    "filtered_df.to_csv('springer-abstract_only_s2.csv')"
   ]
  }
 ],
 "metadata": {
  "kernelspec": {
   "display_name": "Python 3 (ipykernel)",
   "language": "python",
   "name": "python3"
  },
  "language_info": {
   "codemirror_mode": {
    "name": "ipython",
    "version": 3
   },
   "file_extension": ".py",
   "mimetype": "text/x-python",
   "name": "python",
   "nbconvert_exporter": "python",
   "pygments_lexer": "ipython3",
   "version": "3.10.12"
  }
 },
 "nbformat": 4,
 "nbformat_minor": 5
}
